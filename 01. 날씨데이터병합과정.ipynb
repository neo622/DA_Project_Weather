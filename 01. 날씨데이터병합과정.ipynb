{
 "cells": [
  {
   "cell_type": "code",
   "execution_count": 1,
   "metadata": {},
   "outputs": [],
   "source": [
    "\n",
    "import pandas as pd\n",
    "import numpy as np\n",
    "\n",
    "\n",
    "ccn = pd.read_csv('C:/Users/admin/Desktop/프로젝트 데이터/충남.csv',engine='python')\n"
   ]
  },
  {
   "cell_type": "code",
   "execution_count": 66,
   "metadata": {},
   "outputs": [
    {
     "data": {
      "text/html": [
       "<div>\n",
       "<style scoped>\n",
       "    .dataframe tbody tr th:only-of-type {\n",
       "        vertical-align: middle;\n",
       "    }\n",
       "\n",
       "    .dataframe tbody tr th {\n",
       "        vertical-align: top;\n",
       "    }\n",
       "\n",
       "    .dataframe thead th {\n",
       "        text-align: right;\n",
       "    }\n",
       "</style>\n",
       "<table border=\"1\" class=\"dataframe\">\n",
       "  <thead>\n",
       "    <tr style=\"text-align: right;\">\n",
       "      <th></th>\n",
       "      <th>지점</th>\n",
       "      <th>지점명</th>\n",
       "      <th>일시</th>\n",
       "      <th>평균기온(°C)</th>\n",
       "      <th>일강수량(mm)</th>\n",
       "      <th>평균 상대습도(%)</th>\n",
       "      <th>일최심신적설(cm)</th>\n",
       "    </tr>\n",
       "  </thead>\n",
       "  <tbody>\n",
       "    <tr>\n",
       "      <td>0</td>\n",
       "      <td>129</td>\n",
       "      <td>서산</td>\n",
       "      <td>2018-01-01</td>\n",
       "      <td>-2.2</td>\n",
       "      <td>NaN</td>\n",
       "      <td>76.0</td>\n",
       "      <td>NaN</td>\n",
       "    </tr>\n",
       "    <tr>\n",
       "      <td>1</td>\n",
       "      <td>129</td>\n",
       "      <td>서산</td>\n",
       "      <td>2018-01-04</td>\n",
       "      <td>-3.9</td>\n",
       "      <td>NaN</td>\n",
       "      <td>62.5</td>\n",
       "      <td>NaN</td>\n",
       "    </tr>\n",
       "    <tr>\n",
       "      <td>2</td>\n",
       "      <td>129</td>\n",
       "      <td>서산</td>\n",
       "      <td>2018-01-05</td>\n",
       "      <td>-1.9</td>\n",
       "      <td>NaN</td>\n",
       "      <td>72.4</td>\n",
       "      <td>NaN</td>\n",
       "    </tr>\n",
       "    <tr>\n",
       "      <td>3</td>\n",
       "      <td>129</td>\n",
       "      <td>서산</td>\n",
       "      <td>2018-01-06</td>\n",
       "      <td>-2.8</td>\n",
       "      <td>NaN</td>\n",
       "      <td>71.3</td>\n",
       "      <td>NaN</td>\n",
       "    </tr>\n",
       "    <tr>\n",
       "      <td>4</td>\n",
       "      <td>129</td>\n",
       "      <td>서산</td>\n",
       "      <td>2018-01-07</td>\n",
       "      <td>-1.6</td>\n",
       "      <td>NaN</td>\n",
       "      <td>64.5</td>\n",
       "      <td>NaN</td>\n",
       "    </tr>\n",
       "    <tr>\n",
       "      <td>...</td>\n",
       "      <td>...</td>\n",
       "      <td>...</td>\n",
       "      <td>...</td>\n",
       "      <td>...</td>\n",
       "      <td>...</td>\n",
       "      <td>...</td>\n",
       "      <td>...</td>\n",
       "    </tr>\n",
       "    <tr>\n",
       "      <td>4365</td>\n",
       "      <td>238</td>\n",
       "      <td>금산</td>\n",
       "      <td>2019-12-27</td>\n",
       "      <td>-0.5</td>\n",
       "      <td>NaN</td>\n",
       "      <td>65.1</td>\n",
       "      <td>NaN</td>\n",
       "    </tr>\n",
       "    <tr>\n",
       "      <td>4366</td>\n",
       "      <td>238</td>\n",
       "      <td>금산</td>\n",
       "      <td>2019-12-28</td>\n",
       "      <td>-1.8</td>\n",
       "      <td>NaN</td>\n",
       "      <td>74.8</td>\n",
       "      <td>NaN</td>\n",
       "    </tr>\n",
       "    <tr>\n",
       "      <td>4367</td>\n",
       "      <td>238</td>\n",
       "      <td>금산</td>\n",
       "      <td>2019-12-29</td>\n",
       "      <td>0.7</td>\n",
       "      <td>9.0</td>\n",
       "      <td>80.6</td>\n",
       "      <td>NaN</td>\n",
       "    </tr>\n",
       "    <tr>\n",
       "      <td>4368</td>\n",
       "      <td>238</td>\n",
       "      <td>금산</td>\n",
       "      <td>2019-12-30</td>\n",
       "      <td>3.8</td>\n",
       "      <td>3.4</td>\n",
       "      <td>86.6</td>\n",
       "      <td>NaN</td>\n",
       "    </tr>\n",
       "    <tr>\n",
       "      <td>4369</td>\n",
       "      <td>238</td>\n",
       "      <td>금산</td>\n",
       "      <td>2019-12-31</td>\n",
       "      <td>-5.0</td>\n",
       "      <td>NaN</td>\n",
       "      <td>54.6</td>\n",
       "      <td>NaN</td>\n",
       "    </tr>\n",
       "  </tbody>\n",
       "</table>\n",
       "<p>4370 rows × 7 columns</p>\n",
       "</div>"
      ],
      "text/plain": [
       "       지점 지점명          일시  평균기온(°C)  일강수량(mm)  평균 상대습도(%)  일최심신적설(cm)\n",
       "0     129  서산  2018-01-01      -2.2       NaN        76.0         NaN\n",
       "1     129  서산  2018-01-04      -3.9       NaN        62.5         NaN\n",
       "2     129  서산  2018-01-05      -1.9       NaN        72.4         NaN\n",
       "3     129  서산  2018-01-06      -2.8       NaN        71.3         NaN\n",
       "4     129  서산  2018-01-07      -1.6       NaN        64.5         NaN\n",
       "...   ...  ..         ...       ...       ...         ...         ...\n",
       "4365  238  금산  2019-12-27      -0.5       NaN        65.1         NaN\n",
       "4366  238  금산  2019-12-28      -1.8       NaN        74.8         NaN\n",
       "4367  238  금산  2019-12-29       0.7       9.0        80.6         NaN\n",
       "4368  238  금산  2019-12-30       3.8       3.4        86.6         NaN\n",
       "4369  238  금산  2019-12-31      -5.0       NaN        54.6         NaN\n",
       "\n",
       "[4370 rows x 7 columns]"
      ]
     },
     "execution_count": 66,
     "metadata": {},
     "output_type": "execute_result"
    }
   ],
   "source": [
    "ccn"
   ]
  },
  {
   "cell_type": "code",
   "execution_count": 68,
   "metadata": {},
   "outputs": [],
   "source": [
    "ccn['일강수량(mm)'].fillna('0',inplace=True)\n",
    "ccn['일강수량(mm)'].replace('0',0,inplace=True)"
   ]
  },
  {
   "cell_type": "code",
   "execution_count": 69,
   "metadata": {},
   "outputs": [],
   "source": [
    "ccn['일최심신적설(cm)'].fillna('0',inplace=True)\n",
    "ccn['일최심신적설(cm)'].replace('0',0,inplace=True)"
   ]
  },
  {
   "cell_type": "code",
   "execution_count": 75,
   "metadata": {},
   "outputs": [],
   "source": [
    "ccn = ccn.groupby(by=['일시'], as_index=False).mean()"
   ]
  },
  {
   "cell_type": "code",
   "execution_count": 76,
   "metadata": {},
   "outputs": [],
   "source": [
    "ccn.to_csv('충남_가.csv', index=False)"
   ]
  },
  {
   "cell_type": "code",
   "execution_count": null,
   "metadata": {},
   "outputs": [],
   "source": []
  },
  {
   "cell_type": "code",
   "execution_count": 79,
   "metadata": {},
   "outputs": [],
   "source": [
    "ccb = pd.read_csv('C:/Users/admin/Desktop/프로젝트 데이터/충북.csv',engine='python')\n",
    "ccb['일강수량(mm)'].fillna('0',inplace=True)\n",
    "ccb['일강수량(mm)'].replace('0',0,inplace=True)\n",
    "ccb['일최심신적설(cm)'].fillna('0',inplace=True)\n",
    "ccb['일최심신적설(cm)'].replace('0',0,inplace=True)\n",
    "ccb = ccb.groupby(by=['일시'], as_index=False).mean()\n",
    "ccb.to_csv('충북_가.csv', index=False)"
   ]
  },
  {
   "cell_type": "code",
   "execution_count": 80,
   "metadata": {},
   "outputs": [],
   "source": [
    "dg = pd.read_csv('C:/Users/admin/Desktop/프로젝트 데이터/대구.csv',engine='python')\n",
    "dg['일강수량(mm)'].fillna('0',inplace=True)\n",
    "dg['일강수량(mm)'].replace('0',0,inplace=True)\n",
    "dg['일최심신적설(cm)'].fillna('0',inplace=True)\n",
    "dg['일최심신적설(cm)'].replace('0',0,inplace=True)\n",
    "dg = dg.groupby(by=['일시'], as_index=False).mean()\n",
    "dg.to_csv('대구_가.csv', index=False)"
   ]
  },
  {
   "cell_type": "code",
   "execution_count": 4,
   "metadata": {},
   "outputs": [],
   "source": [
    "other = pd.read_csv('C:/Users/admin/Desktop/프로젝트 데이터/광주,대전,부산,세종,울산.csv',engine='python')\n",
    "other['일강수량(mm)'].fillna('0',inplace=True)\n",
    "other['일강수량(mm)'].replace('0',0,inplace=True)\n",
    "other['일최심신적설(cm)'].fillna('0',inplace=True)\n",
    "other['일최심신적설(cm)'].replace('0',0,inplace=True)\n",
    "other = other.groupby(by=['일시'], as_index=False).mean()\n",
    "other.to_csv('광주,대전,부산,세종,울산_가.csv', index=False)"
   ]
  },
  {
   "cell_type": "code",
   "execution_count": 5,
   "metadata": {},
   "outputs": [
    {
     "data": {
      "text/html": [
       "<div>\n",
       "<style scoped>\n",
       "    .dataframe tbody tr th:only-of-type {\n",
       "        vertical-align: middle;\n",
       "    }\n",
       "\n",
       "    .dataframe tbody tr th {\n",
       "        vertical-align: top;\n",
       "    }\n",
       "\n",
       "    .dataframe thead th {\n",
       "        text-align: right;\n",
       "    }\n",
       "</style>\n",
       "<table border=\"1\" class=\"dataframe\">\n",
       "  <thead>\n",
       "    <tr style=\"text-align: right;\">\n",
       "      <th></th>\n",
       "      <th>일시</th>\n",
       "      <th>지점</th>\n",
       "      <th>평균기온(°C)</th>\n",
       "      <th>일강수량(mm)</th>\n",
       "      <th>평균 상대습도(%)</th>\n",
       "      <th>일최심신적설(cm)</th>\n",
       "    </tr>\n",
       "  </thead>\n",
       "  <tbody>\n",
       "    <tr>\n",
       "      <td>0</td>\n",
       "      <td>2018-01-01</td>\n",
       "      <td>150.0</td>\n",
       "      <td>1.600</td>\n",
       "      <td>0.00</td>\n",
       "      <td>44.150</td>\n",
       "      <td>0.0</td>\n",
       "    </tr>\n",
       "    <tr>\n",
       "      <td>1</td>\n",
       "      <td>2018-01-02</td>\n",
       "      <td>150.0</td>\n",
       "      <td>2.250</td>\n",
       "      <td>0.00</td>\n",
       "      <td>55.925</td>\n",
       "      <td>0.0</td>\n",
       "    </tr>\n",
       "    <tr>\n",
       "      <td>2</td>\n",
       "      <td>2018-01-03</td>\n",
       "      <td>150.0</td>\n",
       "      <td>0.325</td>\n",
       "      <td>0.00</td>\n",
       "      <td>39.750</td>\n",
       "      <td>0.0</td>\n",
       "    </tr>\n",
       "    <tr>\n",
       "      <td>3</td>\n",
       "      <td>2018-01-04</td>\n",
       "      <td>150.0</td>\n",
       "      <td>0.175</td>\n",
       "      <td>0.00</td>\n",
       "      <td>47.550</td>\n",
       "      <td>0.0</td>\n",
       "    </tr>\n",
       "    <tr>\n",
       "      <td>4</td>\n",
       "      <td>2018-01-05</td>\n",
       "      <td>150.0</td>\n",
       "      <td>1.975</td>\n",
       "      <td>0.20</td>\n",
       "      <td>51.400</td>\n",
       "      <td>0.0</td>\n",
       "    </tr>\n",
       "    <tr>\n",
       "      <td>...</td>\n",
       "      <td>...</td>\n",
       "      <td>...</td>\n",
       "      <td>...</td>\n",
       "      <td>...</td>\n",
       "      <td>...</td>\n",
       "      <td>...</td>\n",
       "    </tr>\n",
       "    <tr>\n",
       "      <td>725</td>\n",
       "      <td>2019-12-27</td>\n",
       "      <td>167.8</td>\n",
       "      <td>1.840</td>\n",
       "      <td>0.00</td>\n",
       "      <td>49.300</td>\n",
       "      <td>0.0</td>\n",
       "    </tr>\n",
       "    <tr>\n",
       "      <td>726</td>\n",
       "      <td>2019-12-28</td>\n",
       "      <td>167.8</td>\n",
       "      <td>2.200</td>\n",
       "      <td>0.00</td>\n",
       "      <td>49.920</td>\n",
       "      <td>0.0</td>\n",
       "    </tr>\n",
       "    <tr>\n",
       "      <td>727</td>\n",
       "      <td>2019-12-29</td>\n",
       "      <td>167.8</td>\n",
       "      <td>3.640</td>\n",
       "      <td>9.30</td>\n",
       "      <td>73.140</td>\n",
       "      <td>0.0</td>\n",
       "    </tr>\n",
       "    <tr>\n",
       "      <td>728</td>\n",
       "      <td>2019-12-30</td>\n",
       "      <td>167.8</td>\n",
       "      <td>6.460</td>\n",
       "      <td>1.42</td>\n",
       "      <td>82.840</td>\n",
       "      <td>0.0</td>\n",
       "    </tr>\n",
       "    <tr>\n",
       "      <td>729</td>\n",
       "      <td>2019-12-31</td>\n",
       "      <td>167.8</td>\n",
       "      <td>-2.700</td>\n",
       "      <td>0.00</td>\n",
       "      <td>42.340</td>\n",
       "      <td>0.0</td>\n",
       "    </tr>\n",
       "  </tbody>\n",
       "</table>\n",
       "<p>730 rows × 6 columns</p>\n",
       "</div>"
      ],
      "text/plain": [
       "             일시     지점  평균기온(°C)  일강수량(mm)  평균 상대습도(%)  일최심신적설(cm)\n",
       "0    2018-01-01  150.0     1.600      0.00      44.150         0.0\n",
       "1    2018-01-02  150.0     2.250      0.00      55.925         0.0\n",
       "2    2018-01-03  150.0     0.325      0.00      39.750         0.0\n",
       "3    2018-01-04  150.0     0.175      0.00      47.550         0.0\n",
       "4    2018-01-05  150.0     1.975      0.20      51.400         0.0\n",
       "..          ...    ...       ...       ...         ...         ...\n",
       "725  2019-12-27  167.8     1.840      0.00      49.300         0.0\n",
       "726  2019-12-28  167.8     2.200      0.00      49.920         0.0\n",
       "727  2019-12-29  167.8     3.640      9.30      73.140         0.0\n",
       "728  2019-12-30  167.8     6.460      1.42      82.840         0.0\n",
       "729  2019-12-31  167.8    -2.700      0.00      42.340         0.0\n",
       "\n",
       "[730 rows x 6 columns]"
      ]
     },
     "execution_count": 5,
     "metadata": {},
     "output_type": "execute_result"
    }
   ],
   "source": [
    "other"
   ]
  },
  {
   "cell_type": "code",
   "execution_count": 82,
   "metadata": {},
   "outputs": [],
   "source": [
    "se = pd.read_csv('C:/Users/admin/Desktop/프로젝트 데이터/서울.csv',engine='python')\n",
    "se['일강수량(mm)'].fillna('0',inplace=True)\n",
    "se['일강수량(mm)'].replace('0',0,inplace=True)\n",
    "se['일최심신적설(cm)'].fillna('0',inplace=True)\n",
    "se['일최심신적설(cm)'].replace('0',0,inplace=True)\n",
    "se = se.groupby(by=['일시'], as_index=False).mean()\n",
    "se.to_csv('서울_가.csv', index=False)"
   ]
  },
  {
   "cell_type": "code",
   "execution_count": 21,
   "metadata": {},
   "outputs": [],
   "source": [
    "gwm = pd.read_csv('C:/Users/admin/Desktop/프로젝트 데이터/미세먼지/강원도미세먼지.csv',engine='python')\n",
    "gwm = gwm.groupby(by=['일시'], as_index=False).mean()\n",
    "gwm = gwm.drop('지점',axis=1)\n",
    "gwm.to_csv('강원도미세먼지_가.csv', index=False)"
   ]
  },
  {
   "cell_type": "code",
   "execution_count": 26,
   "metadata": {},
   "outputs": [],
   "source": [
    "ggd = pd.read_csv('C:/Users/admin/Desktop/프로젝트 데이터/미세먼지/경기도미세먼지.csv',engine='python')\n",
    "ggd = ggd.groupby(by=['일시'], as_index=False).mean()\n",
    "ggd = ggd.drop('지점',axis=1)\n",
    "ggd.to_csv('경기도미세먼지_가.csv', index=False)"
   ]
  },
  {
   "cell_type": "code",
   "execution_count": 31,
   "metadata": {},
   "outputs": [],
   "source": [
    "gsn = pd.read_csv('C:/Users/admin/Desktop/프로젝트 데이터/미세먼지/경상남도미세먼지.csv',engine='python')\n",
    "gsn = gsn.groupby(by=['일시'], as_index=False).mean()\n",
    "gsn = gsn.drop('지점',axis=1)\n",
    "gsn.to_csv('경상남도미세먼지_가.csv', index=False)"
   ]
  },
  {
   "cell_type": "code",
   "execution_count": 32,
   "metadata": {},
   "outputs": [],
   "source": [
    "gsb = pd.read_csv('C:/Users/admin/Desktop/프로젝트 데이터/미세먼지/경상북도미세먼지.csv',engine='python')\n",
    "gsb = gsb.groupby(by=['일시'], as_index=False).mean()\n",
    "gsb = gsb.drop('지점',axis=1)\n",
    "gsb.to_csv('경상북도미세먼지_가.csv', index=False)"
   ]
  },
  {
   "cell_type": "code",
   "execution_count": 33,
   "metadata": {},
   "outputs": [],
   "source": [
    "gj = pd.read_csv('C:/Users/admin/Desktop/프로젝트 데이터/미세먼지/광주미세먼지.csv',engine='python')\n",
    "gj = gj.groupby(by=['일시'], as_index=False).mean()\n",
    "gj = gj.drop('지점',axis=1)\n",
    "gj.to_csv('광주미세먼지_가.csv', index=False)"
   ]
  },
  {
   "cell_type": "code",
   "execution_count": 34,
   "metadata": {},
   "outputs": [],
   "source": [
    "dg = pd.read_csv('C:/Users/admin/Desktop/프로젝트 데이터/미세먼지/대구미세먼지.csv',engine='python')\n",
    "dg = dg.groupby(by=['일시'], as_index=False).mean()\n",
    "dg = dg.drop('지점',axis=1)\n",
    "dg.to_csv('대구미세먼지_가.csv', index=False)"
   ]
  },
  {
   "cell_type": "code",
   "execution_count": 35,
   "metadata": {},
   "outputs": [],
   "source": [
    "dj = pd.read_csv('C:/Users/admin/Desktop/프로젝트 데이터/미세먼지/대전,세종미세먼지.csv',engine='python')\n",
    "dj = dj.groupby(by=['일시'], as_index=False).mean()\n",
    "dj = dj.drop('지점',axis=1)\n",
    "dj.to_csv('대전,세종미세먼지_가.csv', index=False)"
   ]
  },
  {
   "cell_type": "code",
   "execution_count": 36,
   "metadata": {},
   "outputs": [],
   "source": [
    "bs = pd.read_csv('C:/Users/admin/Desktop/프로젝트 데이터/미세먼지/부산미세먼지.csv',engine='python')\n",
    "bs = bs.groupby(by=['일시'], as_index=False).mean()\n",
    "bs = bs.drop('지점',axis=1)\n",
    "bs.to_csv('부산미세먼지_가.csv', index=False)"
   ]
  },
  {
   "cell_type": "code",
   "execution_count": 38,
   "metadata": {},
   "outputs": [],
   "source": [
    "se = pd.read_csv('C:/Users/admin/Desktop/프로젝트 데이터/미세먼지/원본/서울미세먼지.csv',engine='python')\n",
    "se = se.groupby(by=['일시'], as_index=False).mean()\n",
    "se = se.drop('지점',axis=1)\n",
    "se.to_csv('서울미세먼지_가.csv', index=False)"
   ]
  },
  {
   "cell_type": "code",
   "execution_count": 45,
   "metadata": {},
   "outputs": [],
   "source": [
    "gwm\n",
    "ggdm = ggd\n",
    "gsnm = gsn\n",
    "gsbm = gsb\n",
    "gjm = gj\n",
    "dgm = dg\n",
    "djm = dj\n",
    "bsm = bs\n",
    "sem = se"
   ]
  },
  {
   "cell_type": "code",
   "execution_count": 46,
   "metadata": {},
   "outputs": [],
   "source": [
    "gwd = pd.read_csv('C:/Users/admin/Desktop/프로젝트 데이터/날씨/강원도_가.csv',engine='python')\n",
    "ggd = pd.read_csv('C:/Users/admin/Desktop/프로젝트 데이터/날씨/경기도_가.csv',engine='python')\n",
    "gsn = pd.read_csv('C:/Users/admin/Desktop/프로젝트 데이터/날씨/경상남도_가.csv',engine='python')\n",
    "gsb = pd.read_csv('C:/Users/admin/Desktop/프로젝트 데이터/날씨/경상북도_가.csv',engine='python')\n",
    "gj = pd.read_csv('C:/Users/admin/Desktop/프로젝트 데이터/날씨/광주_가.csv',engine='python')\n",
    "dg = pd.read_csv('C:/Users/admin/Desktop/프로젝트 데이터/날씨/대구_가.csv',engine='python')\n",
    "dj = pd.read_csv('C:/Users/admin/Desktop/프로젝트 데이터/날씨/대전,세종_가.csv',engine='python')\n",
    "bs = pd.read_csv('C:/Users/admin/Desktop/프로젝트 데이터/날씨/부산_가.csv',engine='python')\n",
    "se = pd.read_csv('C:/Users/admin/Desktop/프로젝트 데이터/날씨/서울_가.csv',engine='python')\n"
   ]
  },
  {
   "cell_type": "code",
   "execution_count": null,
   "metadata": {},
   "outputs": [],
   "source": []
  },
  {
   "cell_type": "code",
   "execution_count": 77,
   "metadata": {},
   "outputs": [],
   "source": [
    "ggdm.columns = ['date','dust']\n",
    "gsnm.columns = ['date','dust']\n",
    "gsbm.columns = ['date','dust']\n",
    "gjm.columns = ['date','dust']\n",
    "dgm.columns = ['date','dust']\n",
    "djm.columns = ['date','dust']\n",
    "bsm.columns = ['date','dust']\n",
    "sem.columns = ['date','dust']"
   ]
  },
  {
   "cell_type": "code",
   "execution_count": 93,
   "metadata": {},
   "outputs": [
    {
     "data": {
      "text/plain": [
       "Index(['date', 'a', 'tem', 'rain', 'hum', 'snow'], dtype='object')"
      ]
     },
     "execution_count": 93,
     "metadata": {},
     "output_type": "execute_result"
    }
   ],
   "source": [
    "gwd.columns"
   ]
  },
  {
   "cell_type": "code",
   "execution_count": 126,
   "metadata": {},
   "outputs": [],
   "source": [
    "gwd_t = pd.merge(gwd,gwm,left_on='date',right_on='date',how='left')\n",
    "gwd_t = gwd_t.drop('a',axis=1)\n",
    "gwd_t['dust'].fillna(method='ffill',inplace=True)\n",
    "gwd_t.to_csv('강원도데이터.csv', index=False)"
   ]
  },
  {
   "cell_type": "code",
   "execution_count": 127,
   "metadata": {},
   "outputs": [],
   "source": [
    "ggd_t = pd.merge(ggd,ggdm,left_on='date',right_on='date',how='left')\n",
    "ggd_t = ggd_t.drop('a',axis=1)\n",
    "ggd_t['dust'].fillna(method='ffill',inplace=True)\n",
    "ggd_t.to_csv('경기도데이터.csv', index=False)"
   ]
  },
  {
   "cell_type": "code",
   "execution_count": 128,
   "metadata": {},
   "outputs": [],
   "source": [
    "gsn_t = pd.merge(gsn,gsnm,left_on='date',right_on='date',how='left')\n",
    "gsn_t = gsn_t.drop('a',axis=1)\n",
    "gsn_t['dust'].fillna(method='ffill',inplace=True)\n",
    "gsn_t.to_csv('경상남도데이터.csv', index=False)"
   ]
  },
  {
   "cell_type": "code",
   "execution_count": 129,
   "metadata": {},
   "outputs": [],
   "source": [
    "gsb_t = pd.merge(gsb,gsbm,left_on='date',right_on='date',how='left')\n",
    "gsb_t = gsb_t.drop('a',axis=1)\n",
    "gsb_t['dust'].fillna(method='ffill',inplace=True)\n",
    "gsb_t.to_csv('경상북도데이터.csv', index=False)"
   ]
  },
  {
   "cell_type": "code",
   "execution_count": 130,
   "metadata": {},
   "outputs": [],
   "source": [
    "gj_t = pd.merge(gj,gjm,left_on='date',right_on='date',how='left')\n",
    "gj_t = gj_t.drop('a',axis=1)\n",
    "gj_t['dust'].fillna(method='ffill',inplace=True)\n",
    "gj_t.to_csv('광주데이터.csv', index=False)"
   ]
  },
  {
   "cell_type": "code",
   "execution_count": 131,
   "metadata": {},
   "outputs": [],
   "source": [
    "dg_t = pd.merge(dg,dgm,left_on='date',right_on='date',how='left')\n",
    "dg_t = dg_t.drop('a',axis=1)\n",
    "dg_t['dust'].fillna(method='ffill',inplace=True)\n",
    "dg_t.to_csv('대구데이터.csv', index=False)"
   ]
  },
  {
   "cell_type": "code",
   "execution_count": 132,
   "metadata": {},
   "outputs": [],
   "source": [
    "dj_t = pd.merge(dj,djm,left_on='date',right_on='date',how='left')\n",
    "dj_t = dj_t.drop('a',axis=1)\n",
    "dj_t['dust'].fillna(method='ffill',inplace=True)\n",
    "dj_t.to_csv('대전,세종데이터.csv', index=False)"
   ]
  },
  {
   "cell_type": "code",
   "execution_count": 133,
   "metadata": {},
   "outputs": [],
   "source": [
    "bs_t = pd.merge(bs,bsm,left_on='date',right_on='date',how='left')\n",
    "bs_t = bs_t.drop('a',axis=1)\n",
    "bs_t['dust'].fillna(method='ffill',inplace=True)\n",
    "bs_t.to_csv('부산데이터.csv', index=False)"
   ]
  },
  {
   "cell_type": "code",
   "execution_count": 134,
   "metadata": {},
   "outputs": [],
   "source": [
    "se_t = pd.merge(se,sem,left_on='date',right_on='date',how='left')\n",
    "se_t = se_t.drop('a',axis=1)\n",
    "se_t['dust'].fillna(method='ffill',inplace=True)\n",
    "se_t.to_csv('서울데이터.csv', index=False)"
   ]
  },
  {
   "cell_type": "code",
   "execution_count": null,
   "metadata": {},
   "outputs": [],
   "source": [
    "gwd_t\n",
    "ggd_t\n",
    "gsn_t\n",
    "gsb_t\n",
    "gj_t\n",
    "dg_t\n",
    "dj_t\n",
    "bs_t\n",
    "se_t"
   ]
  }
 ],
 "metadata": {
  "kernelspec": {
   "display_name": "Python 3 (ipykernel)",
   "language": "python",
   "name": "python3"
  },
  "language_info": {
   "codemirror_mode": {
    "name": "ipython",
    "version": 3
   },
   "file_extension": ".py",
   "mimetype": "text/x-python",
   "name": "python",
   "nbconvert_exporter": "python",
   "pygments_lexer": "ipython3",
   "version": "3.9.7"
  }
 },
 "nbformat": 4,
 "nbformat_minor": 4
}
